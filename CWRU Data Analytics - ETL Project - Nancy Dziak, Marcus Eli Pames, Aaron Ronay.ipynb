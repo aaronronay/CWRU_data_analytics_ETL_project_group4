{
 "cells": [
  {
   "cell_type": "code",
   "execution_count": 1,
   "metadata": {},
   "outputs": [],
   "source": [
    "# import dependencies and read csv files into pandas\n",
    "import pandas as pd\n",
    "f_sales = \"Resources/vg_sales.csv\"\n",
    "f_reviews = \"Resources/vg_reviews.csv\"\n",
    "df_sales = pd.read_csv(f_sales, encoding = 'utf-8')\n",
    "df_reviews = pd.read_csv(f_reviews, encoding = 'utf-8')"
   ]
  },
  {
   "cell_type": "code",
   "execution_count": 2,
   "metadata": {
    "scrolled": true
   },
   "outputs": [],
   "source": [
    "# create n64 sales DF \n",
    "df_N64_sales_platform = df_sales.loc[df_sales[\"Platform\"] == \"N64\"]"
   ]
  },
  {
   "cell_type": "code",
   "execution_count": 3,
   "metadata": {},
   "outputs": [],
   "source": [
    "# selected columns of interest for n64 sales DF\n",
    "N64_sales_clean = df_N64_sales_platform[['Name', 'Platform', 'Year', 'Genre', 'Publisher', 'NA_Sales']]"
   ]
  },
  {
   "cell_type": "code",
   "execution_count": 4,
   "metadata": {},
   "outputs": [],
   "source": [
    "# create n64 reviews DF, and selected columns of interest \n",
    "df_N64_reviews_platform = df_reviews.loc[df_reviews[\"platform\"] == \"Nintendo 64\"]\n",
    "df_N64_reviews_platform_clean = df_N64_reviews_platform[['title', 'score', 'score_phrase', 'editors_choice']]"
   ]
  },
  {
   "cell_type": "code",
   "execution_count": 5,
   "metadata": {},
   "outputs": [],
   "source": [
    "# renamed n64 reviews column from \"title\" to \"name\"\n",
    "df_N64_reviews_platform_clean = df_N64_reviews_platform_clean.rename(columns={\"title\": \"Name\"})"
   ]
  },
  {
   "cell_type": "code",
   "execution_count": 6,
   "metadata": {},
   "outputs": [],
   "source": [
    "# reset index for both dataframes\n",
    "new_index_N64_sales = N64_sales_clean.reset_index(drop=True)\n",
    "new_index_N64_reviews = df_N64_reviews_platform_clean.reset_index(drop=True)"
   ]
  },
  {
   "cell_type": "code",
   "execution_count": 7,
   "metadata": {
    "scrolled": true
   },
   "outputs": [
    {
     "data": {
      "text/html": [
       "<div>\n",
       "<style scoped>\n",
       "    .dataframe tbody tr th:only-of-type {\n",
       "        vertical-align: middle;\n",
       "    }\n",
       "\n",
       "    .dataframe tbody tr th {\n",
       "        vertical-align: top;\n",
       "    }\n",
       "\n",
       "    .dataframe thead th {\n",
       "        text-align: right;\n",
       "    }\n",
       "</style>\n",
       "<table border=\"1\" class=\"dataframe\">\n",
       "  <thead>\n",
       "    <tr style=\"text-align: right;\">\n",
       "      <th></th>\n",
       "      <th>Name</th>\n",
       "      <th>Platform</th>\n",
       "      <th>Year</th>\n",
       "      <th>Genre</th>\n",
       "      <th>Publisher</th>\n",
       "      <th>NA_Sales</th>\n",
       "    </tr>\n",
       "  </thead>\n",
       "  <tbody>\n",
       "    <tr>\n",
       "      <th>0</th>\n",
       "      <td>Super Mario 64</td>\n",
       "      <td>N64</td>\n",
       "      <td>1996.0</td>\n",
       "      <td>Platform</td>\n",
       "      <td>Nintendo</td>\n",
       "      <td>6.91</td>\n",
       "    </tr>\n",
       "    <tr>\n",
       "      <th>1</th>\n",
       "      <td>Mario Kart 64</td>\n",
       "      <td>N64</td>\n",
       "      <td>1996.0</td>\n",
       "      <td>Racing</td>\n",
       "      <td>Nintendo</td>\n",
       "      <td>5.55</td>\n",
       "    </tr>\n",
       "    <tr>\n",
       "      <th>2</th>\n",
       "      <td>GoldenEye 007</td>\n",
       "      <td>N64</td>\n",
       "      <td>1997.0</td>\n",
       "      <td>Shooter</td>\n",
       "      <td>Nintendo</td>\n",
       "      <td>5.80</td>\n",
       "    </tr>\n",
       "    <tr>\n",
       "      <th>3</th>\n",
       "      <td>The Legend of Zelda: Ocarina of Time</td>\n",
       "      <td>N64</td>\n",
       "      <td>1998.0</td>\n",
       "      <td>Action</td>\n",
       "      <td>Nintendo</td>\n",
       "      <td>4.10</td>\n",
       "    </tr>\n",
       "    <tr>\n",
       "      <th>4</th>\n",
       "      <td>Super Smash Bros.</td>\n",
       "      <td>N64</td>\n",
       "      <td>1999.0</td>\n",
       "      <td>Fighting</td>\n",
       "      <td>Nintendo</td>\n",
       "      <td>2.95</td>\n",
       "    </tr>\n",
       "  </tbody>\n",
       "</table>\n",
       "</div>"
      ],
      "text/plain": [
       "                                   Name Platform    Year     Genre Publisher  \\\n",
       "0                        Super Mario 64      N64  1996.0  Platform  Nintendo   \n",
       "1                         Mario Kart 64      N64  1996.0    Racing  Nintendo   \n",
       "2                         GoldenEye 007      N64  1997.0   Shooter  Nintendo   \n",
       "3  The Legend of Zelda: Ocarina of Time      N64  1998.0    Action  Nintendo   \n",
       "4                     Super Smash Bros.      N64  1999.0  Fighting  Nintendo   \n",
       "\n",
       "   NA_Sales  \n",
       "0      6.91  \n",
       "1      5.55  \n",
       "2      5.80  \n",
       "3      4.10  \n",
       "4      2.95  "
      ]
     },
     "execution_count": 7,
     "metadata": {},
     "output_type": "execute_result"
    }
   ],
   "source": [
    "# view header rows for n64 sales df\n",
    "new_index_N64_sales.head()"
   ]
  },
  {
   "cell_type": "code",
   "execution_count": 8,
   "metadata": {},
   "outputs": [
    {
     "data": {
      "text/html": [
       "<div>\n",
       "<style scoped>\n",
       "    .dataframe tbody tr th:only-of-type {\n",
       "        vertical-align: middle;\n",
       "    }\n",
       "\n",
       "    .dataframe tbody tr th {\n",
       "        vertical-align: top;\n",
       "    }\n",
       "\n",
       "    .dataframe thead th {\n",
       "        text-align: right;\n",
       "    }\n",
       "</style>\n",
       "<table border=\"1\" class=\"dataframe\">\n",
       "  <thead>\n",
       "    <tr style=\"text-align: right;\">\n",
       "      <th></th>\n",
       "      <th>Name</th>\n",
       "      <th>score</th>\n",
       "      <th>score_phrase</th>\n",
       "      <th>editors_choice</th>\n",
       "    </tr>\n",
       "  </thead>\n",
       "  <tbody>\n",
       "    <tr>\n",
       "      <th>0</th>\n",
       "      <td>Mortal Kombat Trilogy</td>\n",
       "      <td>4.1</td>\n",
       "      <td>Bad</td>\n",
       "      <td>N</td>\n",
       "    </tr>\n",
       "    <tr>\n",
       "      <th>1</th>\n",
       "      <td>Wave Race 64</td>\n",
       "      <td>9.7</td>\n",
       "      <td>Amazing</td>\n",
       "      <td>Y</td>\n",
       "    </tr>\n",
       "    <tr>\n",
       "      <th>2</th>\n",
       "      <td>Cruis'n USA</td>\n",
       "      <td>4.0</td>\n",
       "      <td>Bad</td>\n",
       "      <td>N</td>\n",
       "    </tr>\n",
       "    <tr>\n",
       "      <th>3</th>\n",
       "      <td>Pilotwings 64</td>\n",
       "      <td>8.2</td>\n",
       "      <td>Great</td>\n",
       "      <td>N</td>\n",
       "    </tr>\n",
       "    <tr>\n",
       "      <th>4</th>\n",
       "      <td>Super Mario 64</td>\n",
       "      <td>9.8</td>\n",
       "      <td>Amazing</td>\n",
       "      <td>Y</td>\n",
       "    </tr>\n",
       "  </tbody>\n",
       "</table>\n",
       "</div>"
      ],
      "text/plain": [
       "                    Name  score score_phrase editors_choice\n",
       "0  Mortal Kombat Trilogy    4.1          Bad              N\n",
       "1           Wave Race 64    9.7      Amazing              Y\n",
       "2            Cruis'n USA    4.0          Bad              N\n",
       "3          Pilotwings 64    8.2        Great              N\n",
       "4         Super Mario 64    9.8      Amazing              Y"
      ]
     },
     "execution_count": 8,
     "metadata": {},
     "output_type": "execute_result"
    }
   ],
   "source": [
    "# view header rows for n64 reviews df\n",
    "new_index_N64_reviews.head()"
   ]
  },
  {
   "cell_type": "code",
   "execution_count": 11,
   "metadata": {},
   "outputs": [],
   "source": [
    "#import SQL connection dependencies and establish parameters for SQL connection to amazon server\n",
    "import sqlalchemy\n",
    "import mysql.connector\n",
    "from sqlalchemy import create_engine\n",
    "\n",
    "database_username = 'group04'\n",
    "database_password = 't98NP4bqYVe4vQvA'\n",
    "database_ip       = 'cwru-data-project02.ciuevunbeloh.us-east-2.rds.amazonaws.com'\n",
    "database_name     = 'group04'\n",
    "database_connection = sqlalchemy.create_engine('mysql+mysqlconnector://{0}:{1}@{2}/{3}'.\n",
    "                                              format(database_username, database_password,\n",
    "                                                     database_ip, database_name))"
   ]
  },
  {
   "cell_type": "code",
   "execution_count": null,
   "metadata": {},
   "outputs": [],
   "source": [
    "# convert n64 reviews DF to SQL table, and then upload table to database using SQL connection, non-indexed, because join will be later performed based on \"name\"\n",
    "new_index_N64_reviews.to_sql(name = 'N64_reviews', con = database_connection, index=False, if_exists='append')"
   ]
  },
  {
   "cell_type": "code",
   "execution_count": 12,
   "metadata": {},
   "outputs": [
    {
     "data": {
      "text/plain": [
       "'\\nname : string\\nName of SQL table.\\n\\ncon : sqlalchemy.engine.Engine or sqlite3.Connection\\nUsing SQLAlchemy makes it possible to use any DB supported by that library. Legacy support is provided for sqlite3.Connection objects.\\n\\nschema : string, optional\\nSpecify the schema (if database flavor supports this). If None, use default schema.\\n\\nif_exists : {‘fail’, ‘replace’, ‘append’}, default ‘fail’\\nHow to behave if the table already exists.\\nfail: Raise a ValueError.\\nreplace: Drop the table before inserting new values.\\nappend: Insert new values to the existing table.\\n\\nindex : boolean, default True\\nWrite DataFrame index as a column. Uses index_label as the column name in the table.\\n\\nindex_label : string or sequence, default None\\nColumn label for index column(s). If None is given (default) and index is True, then the index names are used. A sequence should be given if the DataFrame uses MultiIndex.\\n\\nchunksize : int, optional\\nRows will be written in batches of this size at a time. By default, all rows will be written at once.\\n\\ndtype : dict, optional\\nSpecifying the datatype for columns. The keys should be the column names and the values should be the SQLAlchemy types or strings for the sqlite3 legacy mode.\\n'"
      ]
     },
     "execution_count": 12,
     "metadata": {},
     "output_type": "execute_result"
    }
   ],
   "source": [
    "# convert n64 sales DF to SQL table, and then upload table to database using SQL connection, non-indexed, because join will be later performed based on \"name\"\n",
    "new_index_N64_sales.to_sql(name = 'N64_sales', con = database_connection, index=False, if_exists='append')"
   ]
  },
  {
   "cell_type": "code",
   "execution_count": null,
   "metadata": {},
   "outputs": [],
   "source": []
  },
  {
   "cell_type": "code",
   "execution_count": null,
   "metadata": {},
   "outputs": [],
   "source": []
  }
 ],
 "metadata": {
  "kernelspec": {
   "display_name": "Python 3",
   "language": "python",
   "name": "python3"
  },
  "language_info": {
   "codemirror_mode": {
    "name": "ipython",
    "version": 3
   },
   "file_extension": ".py",
   "mimetype": "text/x-python",
   "name": "python",
   "nbconvert_exporter": "python",
   "pygments_lexer": "ipython3",
   "version": "3.6.5"
  }
 },
 "nbformat": 4,
 "nbformat_minor": 2
}
